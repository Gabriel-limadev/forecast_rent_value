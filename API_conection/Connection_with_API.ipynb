{
 "cells": [
  {
   "cell_type": "markdown",
   "id": "d5afb38f",
   "metadata": {},
   "source": [
    "<font style = 'color:green; font-size:30px; font-weight: bold'>System of the connection with API</font>"
   ]
  },
  {
   "cell_type": "code",
   "execution_count": 22,
   "id": "92739b3d",
   "metadata": {},
   "outputs": [],
   "source": [
    "# conections\n",
    "import requests"
   ]
  },
  {
   "cell_type": "code",
   "execution_count": 62,
   "id": "e264679c",
   "metadata": {},
   "outputs": [
    {
     "data": {
      "text/plain": [
       "{'Rent Value': '[10148.34981571]'}"
      ]
     },
     "execution_count": 62,
     "metadata": {},
     "output_type": "execute_result"
    }
   ],
   "source": [
    "url = 'http://127.0.0.1:5000/API_prediction/480;4;5;3;0;1;0;0'\n",
    "\n",
    "request = requests.get(url)\n",
    "response = request.json()\n",
    "\n",
    "response"
   ]
  },
  {
   "cell_type": "code",
   "execution_count": null,
   "id": "944c53f2",
   "metadata": {},
   "outputs": [],
   "source": []
  }
 ],
 "metadata": {
  "kernelspec": {
   "display_name": "Python 3 (ipykernel)",
   "language": "python",
   "name": "python3"
  },
  "language_info": {
   "codemirror_mode": {
    "name": "ipython",
    "version": 3
   },
   "file_extension": ".py",
   "mimetype": "text/x-python",
   "name": "python",
   "nbconvert_exporter": "python",
   "pygments_lexer": "ipython3",
   "version": "3.10.4"
  }
 },
 "nbformat": 4,
 "nbformat_minor": 5
}
