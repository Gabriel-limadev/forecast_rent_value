{
 "cells": [
  {
   "cell_type": "markdown",
   "id": "1443e5a6",
   "metadata": {},
   "source": [
    "<font style = 'color:green; font-size:30px; font-weight: bold'>Database Creation</font>"
   ]
  },
  {
   "cell_type": "markdown",
   "id": "0498ac2c",
   "metadata": {},
   "source": [
    "<br>\n",
    "<font color= 'red' style='font-size: 30px'>1.2 Connecting with sqlite3</font>\n",
    "<hr style = 'border: 1px solid red'>"
   ]
  },
  {
   "cell_type": "code",
   "execution_count": 1,
   "id": "7fd66248",
   "metadata": {},
   "outputs": [],
   "source": [
    "import sqlite3"
   ]
  },
  {
   "cell_type": "code",
   "execution_count": 2,
   "id": "57f07681",
   "metadata": {},
   "outputs": [],
   "source": [
    "# Creating / connecting database\n",
    "database_conecction = sqlite3.connect('API_database.db')"
   ]
  },
  {
   "cell_type": "code",
   "execution_count": 3,
   "id": "56ac51d9",
   "metadata": {},
   "outputs": [],
   "source": [
    "cursor = database_conecction.cursor()"
   ]
  },
  {
   "cell_type": "markdown",
   "id": "f54263fe",
   "metadata": {},
   "source": [
    "<br>\n",
    "<font color= 'red' style='font-size: 30px'>1.4 Creating querys</font>\n",
    "<hr style = 'border: 1px solid red'>"
   ]
  },
  {
   "cell_type": "markdown",
   "id": "77101f39",
   "metadata": {},
   "source": [
    "<br>\n",
    "<font color= 'blue' style='font-size: 20px'>1.4.2 Create</font>\n",
    "<hr style = 'border: 1px solid blue'>"
   ]
  },
  {
   "cell_type": "code",
   "execution_count": 4,
   "id": "097128e0",
   "metadata": {},
   "outputs": [
    {
     "data": {
      "text/plain": [
       "<sqlite3.Cursor at 0x7f0b9b59e740>"
      ]
     },
     "execution_count": 4,
     "metadata": {},
     "output_type": "execute_result"
    }
   ],
   "source": [
    "# Query - create a table\n",
    "\n",
    "query_create_table = '''\n",
    "CREATE TABLE Log_API (\n",
    "    id INTEGER NOT NULL PRIMARY KEY AUTOINCREMENT, \n",
    "    INPUTS TEXT, \n",
    "    Start TEXT, \n",
    "    End TEXT, \n",
    "    Processing TEXT\n",
    ")\n",
    "'''\n",
    "\n",
    "cursor.execute(query_create_table)"
   ]
  },
  {
   "cell_type": "markdown",
   "id": "583b74f6",
   "metadata": {},
   "source": [
    "<br>\n",
    "<font color= 'blue' style='font-size: 20px'>1.4.3 Insert</font>\n",
    "<hr style = 'border: 1px solid blue'>"
   ]
  },
  {
   "cell_type": "code",
   "execution_count": 5,
   "id": "d591e574",
   "metadata": {},
   "outputs": [],
   "source": [
    "# Query - Insert\n",
    "\n",
    "query_insert = '''\n",
    "    INSERT INTO Log_API (Inputs, Start, End, Processing)\n",
    "    VALUES (';480.0;4.0;5.0;3.0;0.0;1.0;0.0;0.0;[10148.34981571]', '01/01/2000 19:00:00', '01/01/2000 19:05:40', '00:05')\n",
    "'''\n",
    "\n",
    "cursor.execute(query_insert)\n",
    "\n",
    "# Commit\n",
    "database_conecction.commit()"
   ]
  },
  {
   "cell_type": "markdown",
   "id": "b10dfd31",
   "metadata": {},
   "source": [
    "<br>\n",
    "<font color= 'blue' style='font-size: 20px'>1.4.4 Read</font>\n",
    "<hr style = 'border: 1px solid blue'>"
   ]
  },
  {
   "cell_type": "code",
   "execution_count": 7,
   "id": "3b904781",
   "metadata": {},
   "outputs": [
    {
     "data": {
      "text/plain": [
       "[(1,\n",
       "  ';480.0;4.0;5.0;3.0;0.0;1.0;0.0;0.0;[10148.34981571]',\n",
       "  '01/01/2000 19:00:00',\n",
       "  '01/01/2000 19:05:40',\n",
       "  '00:05'),\n",
       " (2,\n",
       "  ';480.0;4.0;5.0;3.0;0.0;1.0;0.0;0.0;[10148.34981571]',\n",
       "  '2022-09-17 14:58:52.400802',\n",
       "  '2022-09-17 14:58:52.463976',\n",
       "  '0:00:00.063174')]"
      ]
     },
     "execution_count": 7,
     "metadata": {},
     "output_type": "execute_result"
    }
   ],
   "source": [
    "# Query - Consult \n",
    "\n",
    "query_consult = '''\n",
    "SELECT * FROM Log_API\n",
    "'''\n",
    "\n",
    "cursor.execute(query_consult).fetchall()"
   ]
  },
  {
   "cell_type": "code",
   "execution_count": null,
   "id": "67e3cef4",
   "metadata": {},
   "outputs": [],
   "source": []
  }
 ],
 "metadata": {
  "kernelspec": {
   "display_name": "Python 3 (ipykernel)",
   "language": "python",
   "name": "python3"
  },
  "language_info": {
   "codemirror_mode": {
    "name": "ipython",
    "version": 3
   },
   "file_extension": ".py",
   "mimetype": "text/x-python",
   "name": "python",
   "nbconvert_exporter": "python",
   "pygments_lexer": "ipython3",
   "version": "3.10.4"
  }
 },
 "nbformat": 4,
 "nbformat_minor": 5
}
